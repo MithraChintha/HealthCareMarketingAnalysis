{
 "cells": [
  {
   "cell_type": "markdown",
   "metadata": {},
   "source": [
    "#### Author : Mithra Chintha   And  Date : 3/7/2017"
   ]
  },
  {
   "cell_type": "code",
   "execution_count": 1,
   "metadata": {
    "collapsed": false
   },
   "outputs": [],
   "source": [
    "#Importing Pandas, numpy and matplotlib packages\n",
    "import pandas as pd\n",
    "import numpy as np\n",
    "from pandas import DataFrame,Series\n",
    "import matplotlib.pyplot as mpl\n",
    "%matplotlib inline\n",
    "from __future__ import division"
   ]
  },
  {
   "cell_type": "code",
   "execution_count": 175,
   "metadata": {
    "collapsed": false
   },
   "outputs": [
    {
     "name": "stdout",
     "output_type": "stream",
     "text": [
      " Volume in drive C is Windows\n",
      " Volume Serial Number is 9685-0F91\n",
      "\n",
      " Directory of C:\\Users\\chint\\Documents\\Python\\Indeed\n",
      "\n",
      "03/07/2017  21:02    <DIR>          .\n",
      "03/07/2017  21:02    <DIR>          ..\n",
      "03/05/2017  12:45    <DIR>          .ipynb_checkpoints\n",
      "03/07/2017  16:43         3,596,178 AgeInjuriesboxplot.html\n",
      "01/17/2016  12:38               347 BodyParts.csv\n",
      "03/07/2017  16:53            37,354 DataAssesmentIndeed.ipynb\n",
      "01/17/2016  12:19               759 DiagnosisCodes.csv\n",
      "01/17/2016  12:44               377 Disposition.csv\n",
      "01/16/2016  18:36        10,098,911 NEISS2014.csv\n",
      "03/07/2017  21:01         3,791,201 Q5DataAnalysis.twbx\n",
      "03/07/2017  21:02           870,130 Report.docx\n",
      "               8 File(s)     18,395,257 bytes\n",
      "               3 Dir(s)  311,073,361,920 bytes free\n"
     ]
    }
   ],
   "source": [
    "ls"
   ]
  },
  {
   "cell_type": "markdown",
   "metadata": {},
   "source": [
    "### Import Data Sets provided"
   ]
  },
  {
   "cell_type": "code",
   "execution_count": 177,
   "metadata": {
    "collapsed": false
   },
   "outputs": [],
   "source": [
    "#Import the NEISS2014 csv data file\n",
    "neiss2014=pd.read_csv(\"NEISS2014.csv\")"
   ]
  },
  {
   "cell_type": "code",
   "execution_count": 178,
   "metadata": {
    "collapsed": false
   },
   "outputs": [
    {
     "data": {
      "text/plain": [
       "CPSC Case #        0\n",
       "trmt_date          0\n",
       "psu                0\n",
       "weight             0\n",
       "stratum            0\n",
       "age                0\n",
       "sex                0\n",
       "race               0\n",
       "race_other     61922\n",
       "diag               0\n",
       "diag_other     57380\n",
       "body_part          0\n",
       "disposition        0\n",
       "location           0\n",
       "fmv                0\n",
       "prod1              0\n",
       "prod2          57053\n",
       "narrative          0\n",
       "dtype: int64"
      ]
     },
     "execution_count": 178,
     "metadata": {},
     "output_type": "execute_result"
    }
   ],
   "source": [
    "#To Check Null values in the neiss2014 data set\n",
    "neiss2014.isnull().sum()"
   ]
  },
  {
   "cell_type": "markdown",
   "metadata": {},
   "source": [
    "#### Body parts and Diagnosis information is provided in codes and the actual values of each of these codes are provided in seperate datasets"
   ]
  },
  {
   "cell_type": "code",
   "execution_count": 4,
   "metadata": {
    "collapsed": true
   },
   "outputs": [],
   "source": [
    "#Import the Body parts data file\n",
    "bodyParts=pd.read_csv(\"BodyParts.csv\")"
   ]
  },
  {
   "cell_type": "code",
   "execution_count": 6,
   "metadata": {
    "collapsed": true
   },
   "outputs": [],
   "source": [
    " #Import Diagnosis Code data file\n",
    "diagnosisCode=pd.read_csv(\"DiagnosisCodes.csv\")"
   ]
  },
  {
   "cell_type": "code",
   "execution_count": 8,
   "metadata": {
    "collapsed": false,
    "scrolled": true
   },
   "outputs": [
    {
     "data": {
      "text/html": [
       "<div>\n",
       "<table border=\"1\" class=\"dataframe\">\n",
       "  <thead>\n",
       "    <tr style=\"text-align: right;\">\n",
       "      <th></th>\n",
       "      <th>CPSC Case #</th>\n",
       "      <th>trmt_date</th>\n",
       "      <th>psu</th>\n",
       "      <th>weight</th>\n",
       "      <th>stratum</th>\n",
       "      <th>age</th>\n",
       "      <th>sex</th>\n",
       "      <th>race</th>\n",
       "      <th>race_other</th>\n",
       "      <th>diag</th>\n",
       "      <th>diag_other</th>\n",
       "      <th>body_part</th>\n",
       "      <th>disposition</th>\n",
       "      <th>location</th>\n",
       "      <th>fmv</th>\n",
       "      <th>prod1</th>\n",
       "      <th>prod2</th>\n",
       "      <th>narrative</th>\n",
       "    </tr>\n",
       "  </thead>\n",
       "  <tbody>\n",
       "    <tr>\n",
       "      <th>0</th>\n",
       "      <td>141200216</td>\n",
       "      <td>10/23/14</td>\n",
       "      <td>63</td>\n",
       "      <td>99.7040</td>\n",
       "      <td>M</td>\n",
       "      <td>21</td>\n",
       "      <td>Female</td>\n",
       "      <td>None listed</td>\n",
       "      <td>NaN</td>\n",
       "      <td>62</td>\n",
       "      <td>NaN</td>\n",
       "      <td>75</td>\n",
       "      <td>1</td>\n",
       "      <td>1</td>\n",
       "      <td>0</td>\n",
       "      <td>679</td>\n",
       "      <td>1807.0</td>\n",
       "      <td>21YOF LAYING ON THE COUCH AND ROLLED OFF TO TH...</td>\n",
       "    </tr>\n",
       "    <tr>\n",
       "      <th>1</th>\n",
       "      <td>140117851</td>\n",
       "      <td>1/4/14</td>\n",
       "      <td>63</td>\n",
       "      <td>81.5760</td>\n",
       "      <td>M</td>\n",
       "      <td>62</td>\n",
       "      <td>Female</td>\n",
       "      <td>White</td>\n",
       "      <td>NaN</td>\n",
       "      <td>57</td>\n",
       "      <td>NaN</td>\n",
       "      <td>79</td>\n",
       "      <td>1</td>\n",
       "      <td>1</td>\n",
       "      <td>0</td>\n",
       "      <td>1807</td>\n",
       "      <td>115.0</td>\n",
       "      <td>62YOF TRIPPED OVER THE CORD FOR THE VACUUM CLE...</td>\n",
       "    </tr>\n",
       "    <tr>\n",
       "      <th>2</th>\n",
       "      <td>150144993</td>\n",
       "      <td>8/17/14</td>\n",
       "      <td>63</td>\n",
       "      <td>99.7040</td>\n",
       "      <td>M</td>\n",
       "      <td>21</td>\n",
       "      <td>Female</td>\n",
       "      <td>None listed</td>\n",
       "      <td>NaN</td>\n",
       "      <td>57</td>\n",
       "      <td>NaN</td>\n",
       "      <td>83</td>\n",
       "      <td>1</td>\n",
       "      <td>0</td>\n",
       "      <td>0</td>\n",
       "      <td>1333</td>\n",
       "      <td>NaN</td>\n",
       "      <td>21YOF FELL OFF A SKATEBOARD AND FRACTURED FOOT</td>\n",
       "    </tr>\n",
       "    <tr>\n",
       "      <th>3</th>\n",
       "      <td>150230176</td>\n",
       "      <td>7/27/14</td>\n",
       "      <td>63</td>\n",
       "      <td>99.7040</td>\n",
       "      <td>M</td>\n",
       "      <td>30</td>\n",
       "      <td>Female</td>\n",
       "      <td>None listed</td>\n",
       "      <td>NaN</td>\n",
       "      <td>64</td>\n",
       "      <td>NaN</td>\n",
       "      <td>79</td>\n",
       "      <td>1</td>\n",
       "      <td>1</td>\n",
       "      <td>0</td>\n",
       "      <td>4076</td>\n",
       "      <td>NaN</td>\n",
       "      <td>30YOF TRYING TO GET OUT OF BED AND FELT A POP ...</td>\n",
       "    </tr>\n",
       "    <tr>\n",
       "      <th>4</th>\n",
       "      <td>141220717</td>\n",
       "      <td>9/8/14</td>\n",
       "      <td>63</td>\n",
       "      <td>99.7040</td>\n",
       "      <td>M</td>\n",
       "      <td>16</td>\n",
       "      <td>Male</td>\n",
       "      <td>None listed</td>\n",
       "      <td>NaN</td>\n",
       "      <td>57</td>\n",
       "      <td>NaN</td>\n",
       "      <td>82</td>\n",
       "      <td>1</td>\n",
       "      <td>0</td>\n",
       "      <td>0</td>\n",
       "      <td>1893</td>\n",
       "      <td>NaN</td>\n",
       "      <td>16YOM HAD HAND SLAMMED IN A DOOR FRACTURED HAND</td>\n",
       "    </tr>\n",
       "    <tr>\n",
       "      <th>5</th>\n",
       "      <td>150151229</td>\n",
       "      <td>8/12/14</td>\n",
       "      <td>63</td>\n",
       "      <td>99.7040</td>\n",
       "      <td>M</td>\n",
       "      <td>22</td>\n",
       "      <td>Male</td>\n",
       "      <td>None listed</td>\n",
       "      <td>NaN</td>\n",
       "      <td>64</td>\n",
       "      <td>NaN</td>\n",
       "      <td>79</td>\n",
       "      <td>1</td>\n",
       "      <td>1</td>\n",
       "      <td>0</td>\n",
       "      <td>1871</td>\n",
       "      <td>NaN</td>\n",
       "      <td>22YOM HELPING FATHER PUT UP A FENCE AND STRAIN...</td>\n",
       "    </tr>\n",
       "    <tr>\n",
       "      <th>6</th>\n",
       "      <td>150216968</td>\n",
       "      <td>7/15/14</td>\n",
       "      <td>63</td>\n",
       "      <td>99.7040</td>\n",
       "      <td>M</td>\n",
       "      <td>92</td>\n",
       "      <td>Male</td>\n",
       "      <td>None listed</td>\n",
       "      <td>NaN</td>\n",
       "      <td>72</td>\n",
       "      <td>NaN</td>\n",
       "      <td>36</td>\n",
       "      <td>1</td>\n",
       "      <td>1</td>\n",
       "      <td>0</td>\n",
       "      <td>214</td>\n",
       "      <td>NaN</td>\n",
       "      <td>92YOM BUMPED LOWER LEG ON A DISHWASHER DOOR SU...</td>\n",
       "    </tr>\n",
       "    <tr>\n",
       "      <th>7</th>\n",
       "      <td>141200989</td>\n",
       "      <td>11/24/14</td>\n",
       "      <td>63</td>\n",
       "      <td>112.1671</td>\n",
       "      <td>M</td>\n",
       "      <td>89</td>\n",
       "      <td>Male</td>\n",
       "      <td>None listed</td>\n",
       "      <td>NaN</td>\n",
       "      <td>57</td>\n",
       "      <td>NaN</td>\n",
       "      <td>79</td>\n",
       "      <td>4</td>\n",
       "      <td>1</td>\n",
       "      <td>0</td>\n",
       "      <td>4074</td>\n",
       "      <td>NaN</td>\n",
       "      <td>89YOM GETTING OUT OF A CHAIR AND FELL ONTO HIP...</td>\n",
       "    </tr>\n",
       "    <tr>\n",
       "      <th>8</th>\n",
       "      <td>141241629</td>\n",
       "      <td>12/11/14</td>\n",
       "      <td>63</td>\n",
       "      <td>99.7040</td>\n",
       "      <td>M</td>\n",
       "      <td>75</td>\n",
       "      <td>Female</td>\n",
       "      <td>None listed</td>\n",
       "      <td>NaN</td>\n",
       "      <td>59</td>\n",
       "      <td>NaN</td>\n",
       "      <td>75</td>\n",
       "      <td>1</td>\n",
       "      <td>1</td>\n",
       "      <td>0</td>\n",
       "      <td>3251</td>\n",
       "      <td>NaN</td>\n",
       "      <td>75YOF GETTING INTO A BUILT IN GROUND SWIMMING ...</td>\n",
       "    </tr>\n",
       "    <tr>\n",
       "      <th>9</th>\n",
       "      <td>150226548</td>\n",
       "      <td>7/14/14</td>\n",
       "      <td>63</td>\n",
       "      <td>99.7040</td>\n",
       "      <td>M</td>\n",
       "      <td>68</td>\n",
       "      <td>Male</td>\n",
       "      <td>None listed</td>\n",
       "      <td>NaN</td>\n",
       "      <td>64</td>\n",
       "      <td>NaN</td>\n",
       "      <td>35</td>\n",
       "      <td>1</td>\n",
       "      <td>4</td>\n",
       "      <td>0</td>\n",
       "      <td>5040</td>\n",
       "      <td>NaN</td>\n",
       "      <td>68YOM RIDING HIS BICYCLE AND STRAINED KNEE</td>\n",
       "    </tr>\n",
       "  </tbody>\n",
       "</table>\n",
       "</div>"
      ],
      "text/plain": [
       "   CPSC Case # trmt_date  psu    weight stratum  age     sex         race  \\\n",
       "0    141200216  10/23/14   63   99.7040       M   21  Female  None listed   \n",
       "1    140117851    1/4/14   63   81.5760       M   62  Female        White   \n",
       "2    150144993   8/17/14   63   99.7040       M   21  Female  None listed   \n",
       "3    150230176   7/27/14   63   99.7040       M   30  Female  None listed   \n",
       "4    141220717    9/8/14   63   99.7040       M   16    Male  None listed   \n",
       "5    150151229   8/12/14   63   99.7040       M   22    Male  None listed   \n",
       "6    150216968   7/15/14   63   99.7040       M   92    Male  None listed   \n",
       "7    141200989  11/24/14   63  112.1671       M   89    Male  None listed   \n",
       "8    141241629  12/11/14   63   99.7040       M   75  Female  None listed   \n",
       "9    150226548   7/14/14   63   99.7040       M   68    Male  None listed   \n",
       "\n",
       "  race_other  diag diag_other  body_part  disposition  location  fmv  prod1  \\\n",
       "0        NaN    62        NaN         75            1         1    0    679   \n",
       "1        NaN    57        NaN         79            1         1    0   1807   \n",
       "2        NaN    57        NaN         83            1         0    0   1333   \n",
       "3        NaN    64        NaN         79            1         1    0   4076   \n",
       "4        NaN    57        NaN         82            1         0    0   1893   \n",
       "5        NaN    64        NaN         79            1         1    0   1871   \n",
       "6        NaN    72        NaN         36            1         1    0    214   \n",
       "7        NaN    57        NaN         79            4         1    0   4074   \n",
       "8        NaN    59        NaN         75            1         1    0   3251   \n",
       "9        NaN    64        NaN         35            1         4    0   5040   \n",
       "\n",
       "    prod2                                          narrative  \n",
       "0  1807.0  21YOF LAYING ON THE COUCH AND ROLLED OFF TO TH...  \n",
       "1   115.0  62YOF TRIPPED OVER THE CORD FOR THE VACUUM CLE...  \n",
       "2     NaN    21YOF FELL OFF A SKATEBOARD AND FRACTURED FOOT   \n",
       "3     NaN  30YOF TRYING TO GET OUT OF BED AND FELT A POP ...  \n",
       "4     NaN   16YOM HAD HAND SLAMMED IN A DOOR FRACTURED HAND   \n",
       "5     NaN  22YOM HELPING FATHER PUT UP A FENCE AND STRAIN...  \n",
       "6     NaN  92YOM BUMPED LOWER LEG ON A DISHWASHER DOOR SU...  \n",
       "7     NaN  89YOM GETTING OUT OF A CHAIR AND FELL ONTO HIP...  \n",
       "8     NaN  75YOF GETTING INTO A BUILT IN GROUND SWIMMING ...  \n",
       "9     NaN        68YOM RIDING HIS BICYCLE AND STRAINED KNEE   "
      ]
     },
     "execution_count": 8,
     "metadata": {},
     "output_type": "execute_result"
    }
   ],
   "source": [
    "#Check the data in neiss2014\n",
    "neiss2014.iloc[0:10,]"
   ]
  },
  {
   "cell_type": "code",
   "execution_count": 9,
   "metadata": {
    "collapsed": false
   },
   "outputs": [],
   "source": [
    "#Merge the diagnosis Code in the neiss2014\n",
    "neiss2014 = pd.merge(neiss2014,diagnosisCode,how='left',left_on='diag',right_on='Code').drop(['Code'],axis=1)"
   ]
  },
  {
   "cell_type": "code",
   "execution_count": 10,
   "metadata": {
    "collapsed": false
   },
   "outputs": [],
   "source": [
    "#Merge the Bodyparts in the neiss2014\n",
    "neiss2014 = pd.merge(neiss2014,bodyParts,how='left',left_on='body_part',right_on='Code').drop(['Code'],axis=1)"
   ]
  },
  {
   "cell_type": "code",
   "execution_count": 179,
   "metadata": {
    "collapsed": false
   },
   "outputs": [
    {
     "data": {
      "text/plain": [
       "CPSC Case #        0\n",
       "trmt_date          0\n",
       "psu                0\n",
       "weight             0\n",
       "stratum            0\n",
       "age                0\n",
       "sex                0\n",
       "race               0\n",
       "race_other     61922\n",
       "diag               0\n",
       "diag_other     57380\n",
       "body_part          0\n",
       "disposition        0\n",
       "location           0\n",
       "fmv                0\n",
       "prod1              0\n",
       "prod2          57053\n",
       "narrative          0\n",
       "dtype: int64"
      ]
     },
     "execution_count": 179,
     "metadata": {},
     "output_type": "execute_result"
    }
   ],
   "source": [
    "#Check null values after merging the data sets\n",
    "neiss2014.isnull().sum()"
   ]
  },
  {
   "cell_type": "markdown",
   "metadata": {
    "collapsed": true
   },
   "source": [
    "# Question 1"
   ]
  },
  {
   "cell_type": "markdown",
   "metadata": {},
   "source": [
    "#### What are the top three body parts most frequently represented in this dataset? What are the top three body parts that are least frequently represented?"
   ]
  },
  {
   "cell_type": "markdown",
   "metadata": {},
   "source": [
    "#### Approach: What are the top three body parts most frequently represented in this dataset?"
   ]
  },
  {
   "cell_type": "markdown",
   "metadata": {},
   "source": [
    "value_counts() is a function in Pandas Series which gives the counts of unique values. By default, this function gives the descending order. BodyPart column is selected from the dataframe neiss2014. Used the head() function with 3 as input returns top 3 in the list i.e., the top three most frequent body parts "
   ]
  },
  {
   "cell_type": "code",
   "execution_count": 25,
   "metadata": {
    "collapsed": false
   },
   "outputs": [
    {
     "data": {
      "text/plain": [
       "Head      9891\n",
       "Face      5786\n",
       "Finger    5783\n",
       "Name: BodyPart, dtype: int64"
      ]
     },
     "execution_count": 25,
     "metadata": {},
     "output_type": "execute_result"
    }
   ],
   "source": [
    "neiss2014.BodyPart.value_counts().head(3)"
   ]
  },
  {
   "cell_type": "markdown",
   "metadata": {},
   "source": [
    "The top three body parts are \n",
    "Head,\n",
    "Face,\n",
    "Finger"
   ]
  },
  {
   "cell_type": "markdown",
   "metadata": {},
   "source": [
    "#### Approach: What are the top three body parts that are least frequently represented?"
   ]
  },
  {
   "cell_type": "markdown",
   "metadata": {},
   "source": [
    "Similar to the head() function, to get the top three least frequently represent tail() function can be used."
   ]
  },
  {
   "cell_type": "code",
   "execution_count": 24,
   "metadata": {
    "collapsed": false
   },
   "outputs": [
    {
     "data": {
      "text/plain": [
       "Not Recorded      390\n",
       "Pubic region      286\n",
       "25-50% of body      4\n",
       "Name: BodyPart, dtype: int64"
      ]
     },
     "execution_count": 24,
     "metadata": {},
     "output_type": "execute_result"
    }
   ],
   "source": [
    "neiss2014.BodyPart.value_counts().tail(3)"
   ]
  },
  {
   "cell_type": "markdown",
   "metadata": {},
   "source": [
    "From the above results, top three has 'Not Recorded'. So to get the top three body parts the 4th one has to be selected"
   ]
  },
  {
   "cell_type": "code",
   "execution_count": 26,
   "metadata": {
    "collapsed": false
   },
   "outputs": [
    {
     "data": {
      "text/plain": [
       "Internal          549\n",
       "Not Recorded      390\n",
       "Pubic region      286\n",
       "25-50% of body      4\n",
       "Name: BodyPart, dtype: int64"
      ]
     },
     "execution_count": 26,
     "metadata": {},
     "output_type": "execute_result"
    }
   ],
   "source": [
    "neiss2014.BodyPart.value_counts().tail(4)"
   ]
  },
  {
   "cell_type": "markdown",
   "metadata": {},
   "source": [
    "The top three body parts are \n",
    "Internal, \n",
    "Public region,\n",
    "25- 50% of body"
   ]
  },
  {
   "cell_type": "markdown",
   "metadata": {},
   "source": [
    "# Question 2"
   ]
  },
  {
   "cell_type": "markdown",
   "metadata": {},
   "source": [
    "#### How many injuries in this dataset involve a skateboard?Of those injuries, what percentage were male and what percentage were female? What was the average age of someone injured in an incident involving a skateboard?\n"
   ]
  },
  {
   "cell_type": "markdown",
   "metadata": {},
   "source": [
    "#### Approach: How many injuries in this dataset involve a skateboard"
   ]
  },
  {
   "cell_type": "markdown",
   "metadata": {},
   "source": [
    "Used a variable called narrative which contains information about how an injury occured. To check the injuries involved a skateboard, I used this variable to search for occurences of 'skateboard' or 'skate board'. In the below code, narrative column is selected from the data frame neiss2014 and is type casted to string object. This is passed to lower() function to be make sure that all the occurences in the data frame are in lower case. This again be type casted to string and is passed to contains() function to check the occurances of the string 'skateboard' or 'skate board'. This will result in True/False output to denote whether each record has the string skateboard/skate board or not. This result is passed to sum() function to count the number of occurances of skateboard/skate board. During this computation True will be encoded as 1 and False will be encoded as 0."
   ]
  },
  {
   "cell_type": "code",
   "execution_count": 38,
   "metadata": {
    "collapsed": false
   },
   "outputs": [
    {
     "data": {
      "text/plain": [
       "472"
      ]
     },
     "execution_count": 38,
     "metadata": {},
     "output_type": "execute_result"
    }
   ],
   "source": [
    "neiss2014.narrative.str.lower().str.contains(\"skate board|skateboard\").sum()"
   ]
  },
  {
   "cell_type": "markdown",
   "metadata": {},
   "source": [
    "Therefore there are 472 injuries involved in skateboard"
   ]
  },
  {
   "cell_type": "markdown",
   "metadata": {},
   "source": [
    "#### Approach: Of those injuries, what percentage were male and what percentage were female?"
   ]
  },
  {
   "cell_type": "markdown",
   "metadata": {},
   "source": [
    "To find out the percentages of male and female injuries out of all the skateboard injuries, sex variable is selected and passed to value_counts(normalize=True) function. if we pass normalize=True parameter, the function returns proportions and not the actual counts."
   ]
  },
  {
   "cell_type": "code",
   "execution_count": 43,
   "metadata": {
    "collapsed": false
   },
   "outputs": [
    {
     "data": {
      "text/plain": [
       "Male      82.627119\n",
       "Female    17.372881\n",
       "Name: sex, dtype: float64"
      ]
     },
     "execution_count": 43,
     "metadata": {},
     "output_type": "execute_result"
    }
   ],
   "source": [
    "neiss2014[neiss2014.narrative.str.lower().str.contains(\"skate board|skateboard\")].sex.value_counts(normalize=True)*100"
   ]
  },
  {
   "cell_type": "markdown",
   "metadata": {},
   "source": [
    "Therefore, 82.6% of the skateboard injuries are Males, 17.37% of the skateboard injuries are Females"
   ]
  },
  {
   "cell_type": "markdown",
   "metadata": {},
   "source": [
    "#### Approach: What was the average age of someone injured in an incident involving a skateboard?"
   ]
  },
  {
   "cell_type": "markdown",
   "metadata": {},
   "source": [
    "To find the average age of someone with skateboard injuries, age variable is selected for all the cases with skateboard injuries and is passed to the mean() function"
   ]
  },
  {
   "cell_type": "code",
   "execution_count": 44,
   "metadata": {
    "collapsed": false
   },
   "outputs": [
    {
     "data": {
      "text/plain": [
       "17.953389830508474"
      ]
     },
     "execution_count": 44,
     "metadata": {},
     "output_type": "execute_result"
    }
   ],
   "source": [
    "neiss2014[neiss2014.narrative.str.lower().str.contains(\"skate board|skateboard\")].age.mean()"
   ]
  },
  {
   "cell_type": "markdown",
   "metadata": {},
   "source": [
    "Therefore, average age is near to 18 years"
   ]
  },
  {
   "cell_type": "markdown",
   "metadata": {},
   "source": [
    "# Question 3"
   ]
  },
  {
   "cell_type": "markdown",
   "metadata": {},
   "source": [
    "#### What diagnosis had the highest hospitalization rate? What diagnosis most often concluded with the individual leaving without being seen? Briefly discuss your findings and any caveats you'd mention when discussing this data"
   ]
  },
  {
   "cell_type": "markdown",
   "metadata": {},
   "source": [
    "#### Approach: What diagnosis had the highest hospitalization rate?"
   ]
  },
  {
   "cell_type": "markdown",
   "metadata": {},
   "source": [
    "Proportion of various disposition categories like Treated, Transferred to other hospital, Hospitilized are calculated for each diagnosis and the percentages of Hospitilized cases(coded as 4) per each diagnosis is selected. The results are finally sorted in the descending order inorder to find out the diagnosis with he highest hospitilization rate and displayed the highest hospitalization rate"
   ]
  },
  {
   "cell_type": "raw",
   "metadata": {},
   "source": [
    "1.neiss2014[['Diagnosis','disposition']] selects two columns Diagnosis and disposition\n",
    "2.neiss2014[['Diagnosis','disposition']].groupby(['Diagnosis']) will group the data by Diagnosis\n",
    "3.The outout of the above is passed to apply(lambda x: pd.value_counts(x)/x.count().astype(float)) to calculate the    proportion of each disposition by diagnosis. Eg. Out of Submersion cases, this lambda funciton will calculate the proportion of each disposition cases like Treated,Hospitilized etc \n",
    "4.This output is comverted into a DataFrame.\n",
    "5.Since we are only concerned about the hospitilization rate for each diagnosis, the dataframe is passed to \n",
    "xs(4,level=1) function which fetches only hospitilized(coded as 4) cases\n",
    "6. Results are sorted in the ascending order based on th percentage values\n",
    "7. Finally, used the head(1) to select the highest hospitalization rate in the sorted values"
   ]
  },
  {
   "cell_type": "code",
   "execution_count": 99,
   "metadata": {
    "collapsed": false
   },
   "outputs": [
    {
     "data": {
      "text/html": [
       "<div>\n",
       "<table border=\"1\" class=\"dataframe\">\n",
       "  <thead>\n",
       "    <tr style=\"text-align: right;\">\n",
       "      <th></th>\n",
       "      <th>DispositionRate</th>\n",
       "    </tr>\n",
       "    <tr>\n",
       "      <th>Diagnosis</th>\n",
       "      <th></th>\n",
       "    </tr>\n",
       "  </thead>\n",
       "  <tbody>\n",
       "    <tr>\n",
       "      <th>Submersion (including Drowning)</th>\n",
       "      <td>0.425926</td>\n",
       "    </tr>\n",
       "  </tbody>\n",
       "</table>\n",
       "</div>"
      ],
      "text/plain": [
       "                                 DispositionRate\n",
       "Diagnosis                                       \n",
       "Submersion (including Drowning)         0.425926"
      ]
     },
     "execution_count": 99,
     "metadata": {},
     "output_type": "execute_result"
    }
   ],
   "source": [
    "pd.DataFrame({'DispositionRate':neiss2014[['Diagnosis','disposition']].groupby(['Diagnosis'])['disposition']\\\n",
    "          .apply(lambda x: pd.value_counts(x)/x.count().astype(float))}).\\\n",
    "xs(4,level=1).sort_values(['DispositionRate'],ascending=False).head(1)"
   ]
  },
  {
   "cell_type": "markdown",
   "metadata": {},
   "source": [
    "As shown above, submersion has the highest hospitalization rate"
   ]
  },
  {
   "cell_type": "markdown",
   "metadata": {},
   "source": [
    "#### Approach: What diagnosis most often concluded with the individual leaving without being seen?"
   ]
  },
  {
   "cell_type": "markdown",
   "metadata": {},
   "source": [
    "In the code below, I have calculated the counts of individuals leaving without being seen per each diagnosis. Pivot table functionality in Pandas is used to solve this question and Diagnosis and Disposition variables are selected as index values. Aggregation funciton \"count\" is selected to calculated the counts. Since we are only interested in the counts of cases leaving without being seen, xs(6,level=1) function is used to fetch only those cases.\n",
    "As shown below, Laceration has most individuals leaving without being seen."
   ]
  },
  {
   "cell_type": "code",
   "execution_count": 110,
   "metadata": {
    "collapsed": false
   },
   "outputs": [
    {
     "data": {
      "text/html": [
       "<div>\n",
       "<table border=\"1\" class=\"dataframe\">\n",
       "  <thead>\n",
       "    <tr style=\"text-align: right;\">\n",
       "      <th></th>\n",
       "      <th>diag</th>\n",
       "    </tr>\n",
       "    <tr>\n",
       "      <th>Diagnosis</th>\n",
       "      <th></th>\n",
       "    </tr>\n",
       "  </thead>\n",
       "  <tbody>\n",
       "    <tr>\n",
       "      <th>Other/Not Stated</th>\n",
       "      <td>257</td>\n",
       "    </tr>\n",
       "    <tr>\n",
       "      <th>Laceration</th>\n",
       "      <td>123</td>\n",
       "    </tr>\n",
       "  </tbody>\n",
       "</table>\n",
       "</div>"
      ],
      "text/plain": [
       "                  diag\n",
       "Diagnosis             \n",
       "Other/Not Stated   257\n",
       "Laceration         123"
      ]
     },
     "execution_count": 110,
     "metadata": {},
     "output_type": "execute_result"
    }
   ],
   "source": [
    "pd.DataFrame(neiss2014.pivot_table(index=['Diagnosis','disposition'],aggfunc='count')['diag']).\\\n",
    "xs(6,level=1).sort_values(['diag'],ascending=False).head(2)"
   ]
  },
  {
   "cell_type": "markdown",
   "metadata": {},
   "source": [
    "As shown above, Laceration diagnosis most often concluded with individuals leaving without being seen "
   ]
  },
  {
   "cell_type": "markdown",
   "metadata": {},
   "source": [
    "#### Approach: Briefly discuss your findings and any caveats you'd mention when discussing this data"
   ]
  },
  {
   "cell_type": "markdown",
   "metadata": {},
   "source": [
    "Apart from the counts of individuals, percentages are also calculated below. Proportion of various disposition categories like Treated, Transferred to other hospital, Hospitalized are calculated for each diagnosis and the percentages of Cases without being seen(coded at 6) per each diagnosis is selected. The results are finally sorted in the descending order inorder to find out the diagnosus most often concluded with the individual leaving without being seen.\n"
   ]
  },
  {
   "cell_type": "raw",
   "metadata": {},
   "source": [
    "1.neiss2014[['Diagnosis','disposition']] selects two columns Diagnosis and disposition\n",
    "2.neiss2014[['Diagnosis','disposition']].groupby(['Diagnosis']) will group the data by Diagnosis\n",
    "3.The outout of the above is passed to apply(lambda x: pd.value_counts(x)/x.count().astype(float)) to calculate the    proportion of each disposition by diagnosis. Eg. Out of Submersion cases, this lambda funciton will calculate the proportion of each disposition cases like Treated,Hospitilized etc \n",
    "4.This output is comverted into a DataFrame.\n",
    "5.Since we are only concerned about the hospitilization rate for each diagnosis, the dataframe is passed to \n",
    "xs(6,level=1) function which fetches only Individuals without being seen(coded as 6) cases\n",
    "6. Finally, the results are sorted in the escending order based on th percentage values"
   ]
  },
  {
   "cell_type": "code",
   "execution_count": 114,
   "metadata": {
    "collapsed": false
   },
   "outputs": [
    {
     "data": {
      "text/html": [
       "<div>\n",
       "<table border=\"1\" class=\"dataframe\">\n",
       "  <thead>\n",
       "    <tr style=\"text-align: right;\">\n",
       "      <th></th>\n",
       "      <th>DispositionRate</th>\n",
       "    </tr>\n",
       "    <tr>\n",
       "      <th>Diagnosis</th>\n",
       "      <th></th>\n",
       "    </tr>\n",
       "  </thead>\n",
       "  <tbody>\n",
       "    <tr>\n",
       "      <th>Poisoning</th>\n",
       "      <td>0.033149</td>\n",
       "    </tr>\n",
       "    <tr>\n",
       "      <th>Other/Not Stated</th>\n",
       "      <td>0.031650</td>\n",
       "    </tr>\n",
       "    <tr>\n",
       "      <th>Aspirated foreign object</th>\n",
       "      <td>0.030303</td>\n",
       "    </tr>\n",
       "  </tbody>\n",
       "</table>\n",
       "</div>"
      ],
      "text/plain": [
       "                          DispositionRate\n",
       "Diagnosis                                \n",
       "Poisoning                        0.033149\n",
       "Other/Not Stated                 0.031650\n",
       "Aspirated foreign object         0.030303"
      ]
     },
     "execution_count": 114,
     "metadata": {},
     "output_type": "execute_result"
    }
   ],
   "source": [
    "pd.DataFrame({'DispositionRate':neiss2014[['Diagnosis','disposition']].groupby(['Diagnosis'])['disposition']\\\n",
    "          .apply(lambda x: pd.value_counts(x)/x.count().astype(float))}).\\\n",
    "xs(6,level=1).sort_values(['DispositionRate'],ascending=False).head(3)"
   ]
  },
  {
   "cell_type": "markdown",
   "metadata": {},
   "source": [
    "As shown Above, Poisoning has the highest rate of individuals leaving without being seen."
   ]
  },
  {
   "cell_type": "markdown",
   "metadata": {},
   "source": [
    "# Question 4"
   ]
  },
  {
   "cell_type": "markdown",
   "metadata": {},
   "source": [
    "#### Approach: Visualize any existing relationship between age and reported injuries"
   ]
  },
  {
   "cell_type": "code",
   "execution_count": 145,
   "metadata": {
    "collapsed": false
   },
   "outputs": [
    {
     "data": {
      "text/plain": [
       "[223,\n",
       " 222,\n",
       " 221,\n",
       " 220,\n",
       " 219,\n",
       " 218,\n",
       " 217,\n",
       " 216,\n",
       " 215,\n",
       " 214,\n",
       " 213,\n",
       " 212,\n",
       " 211,\n",
       " 210,\n",
       " 209,\n",
       " 208,\n",
       " 207,\n",
       " 206,\n",
       " 205,\n",
       " 204,\n",
       " 203,\n",
       " 202,\n",
       " 201,\n",
       " 105,\n",
       " 103,\n",
       " 102,\n",
       " 101,\n",
       " 100,\n",
       " 99,\n",
       " 98,\n",
       " 97,\n",
       " 96,\n",
       " 95,\n",
       " 94,\n",
       " 93,\n",
       " 92,\n",
       " 91,\n",
       " 90,\n",
       " 89,\n",
       " 88,\n",
       " 87,\n",
       " 86,\n",
       " 85,\n",
       " 84,\n",
       " 83,\n",
       " 82,\n",
       " 81,\n",
       " 80,\n",
       " 79,\n",
       " 78,\n",
       " 77,\n",
       " 76,\n",
       " 75,\n",
       " 74,\n",
       " 73,\n",
       " 72,\n",
       " 71,\n",
       " 70,\n",
       " 69,\n",
       " 68,\n",
       " 67,\n",
       " 66,\n",
       " 65,\n",
       " 64,\n",
       " 63,\n",
       " 62,\n",
       " 61,\n",
       " 60,\n",
       " 59,\n",
       " 58,\n",
       " 57,\n",
       " 56,\n",
       " 55,\n",
       " 54,\n",
       " 53,\n",
       " 52,\n",
       " 51,\n",
       " 50,\n",
       " 49,\n",
       " 48,\n",
       " 47,\n",
       " 46,\n",
       " 45,\n",
       " 44,\n",
       " 43,\n",
       " 42,\n",
       " 41,\n",
       " 40,\n",
       " 39,\n",
       " 38,\n",
       " 37,\n",
       " 36,\n",
       " 35,\n",
       " 34,\n",
       " 33,\n",
       " 32,\n",
       " 31,\n",
       " 30,\n",
       " 29,\n",
       " 28,\n",
       " 27,\n",
       " 26,\n",
       " 25,\n",
       " 24,\n",
       " 23,\n",
       " 22,\n",
       " 21,\n",
       " 20,\n",
       " 19,\n",
       " 18,\n",
       " 17,\n",
       " 16,\n",
       " 15,\n",
       " 14,\n",
       " 13,\n",
       " 12,\n",
       " 11,\n",
       " 10,\n",
       " 9,\n",
       " 8,\n",
       " 7,\n",
       " 6,\n",
       " 5,\n",
       " 4,\n",
       " 3,\n",
       " 2,\n",
       " 0]"
      ]
     },
     "execution_count": 145,
     "metadata": {},
     "output_type": "execute_result"
    }
   ],
   "source": [
    "sorted(neiss2014.age.unique(),reverse=True)"
   ]
  },
  {
   "cell_type": "markdown",
   "metadata": {},
   "source": [
    "Age variable is measured in years for cases between 2 and 115 years. For the cases <2 years, the data is encoded in months with an additional code beginning with 2. Therefore, for cases <2 years, the data will have three digits. Inorder to bring consistancy in the data, all the data is converted into months in the below code.\n",
    "In the below code, age will be multiplied with 12 if <115. Else remainder of age with 200 is calculated. Remainder of age with 200 will return the number of months."
   ]
  },
  {
   "cell_type": "code",
   "execution_count": 147,
   "metadata": {
    "collapsed": true
   },
   "outputs": [],
   "source": [
    "neiss2014.age=neiss2014.age.map(lambda x: x*12 if x<115 else x%200)"
   ]
  },
  {
   "cell_type": "markdown",
   "metadata": {},
   "source": [
    "For readability of x-axis labels in the graph, extra information in the diagnosis variable is discarded"
   ]
  },
  {
   "cell_type": "code",
   "execution_count": 150,
   "metadata": {
    "collapsed": true
   },
   "outputs": [],
   "source": [
    "neiss2014.Diagnosis=neiss2014.Diagnosis.str.replace(r\"\\(.*\\)\",\"\")"
   ]
  },
  {
   "cell_type": "markdown",
   "metadata": {},
   "source": [
    "Bokeh package is used to visualize the relationship between age and reported injuries. Import the important components in the bokeh package\n"
   ]
  },
  {
   "cell_type": "code",
   "execution_count": 169,
   "metadata": {
    "collapsed": false
   },
   "outputs": [],
   "source": [
    "from bokeh.charts import BoxPlot, output_file, show\n",
    "from bokeh.charts import defaults, vplot, hplot"
   ]
  },
  {
   "cell_type": "code",
   "execution_count": 173,
   "metadata": {
    "collapsed": false
   },
   "outputs": [],
   "source": [
    "#default width and height of the graphs are et\n",
    "defaults.width = 1400\n",
    "defaults.height = 750\n",
    "\n",
    "box_plot = BoxPlot(neiss2014, label='Diagnosis', values='age', color='blue',\n",
    "                   title=\"Injury vs Age\")\n",
    "\n"
   ]
  },
  {
   "cell_type": "code",
   "execution_count": 174,
   "metadata": {
    "collapsed": false
   },
   "outputs": [
    {
     "name": "stderr",
     "output_type": "stream",
     "text": [
      "INFO:bokeh.core.state:Session output file 'AgeInjuriesboxplot.html' already exists, will be overwritten.\n"
     ]
    }
   ],
   "source": [
    "#Download the boxplot in html format with filename as ageinjuriesboxplot.html\n",
    "output_file(\"AgeInjuriesboxplot.html\")\n",
    "show(box_plot)"
   ]
  },
  {
   "cell_type": "markdown",
   "metadata": {},
   "source": [
    "# Question 5+"
   ]
  },
  {
   "cell_type": "markdown",
   "metadata": {},
   "source": [
    "#### Investigate the data however you like and discuss any interesting insights you can find in the data"
   ]
  },
  {
   "cell_type": "markdown",
   "metadata": {},
   "source": [
    "Added in the report"
   ]
  }
 ],
 "metadata": {
  "kernelspec": {
   "display_name": "Python 3",
   "language": "python",
   "name": "python3"
  },
  "language_info": {
   "codemirror_mode": {
    "name": "ipython",
    "version": 3
   },
   "file_extension": ".py",
   "mimetype": "text/x-python",
   "name": "python",
   "nbconvert_exporter": "python",
   "pygments_lexer": "ipython3",
   "version": "3.6.0"
  }
 },
 "nbformat": 4,
 "nbformat_minor": 2
}
